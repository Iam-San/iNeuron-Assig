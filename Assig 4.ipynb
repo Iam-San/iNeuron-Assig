{
 "cells": [
  {
   "cell_type": "markdown",
   "metadata": {},
   "source": [
    "1.1 Write a Python Program(with class concepts) to find the area of the triangle using the below\n",
    "formula.\n",
    "\n",
    "area = (s*(s-a)*(s-b)*(s-c)) ** 0.5\n",
    "\n",
    "Function to take the length of the sides of triangle from user should be defined in the parent\n",
    "class and function to calculate the area should be defined in subclass."
   ]
  },
  {
   "cell_type": "code",
   "execution_count": 12,
   "metadata": {},
   "outputs": [
    {
     "name": "stdout",
     "output_type": "stream",
     "text": [
      "Input a: 2\n",
      "Input b: 5\n",
      "Input c: 1\n",
      "Area of Triangle with sides (2,5,1) is (2.9997597730436923e-16+4.898979485566356j)\n"
     ]
    }
   ],
   "source": [
    "class BaseTriangle():\n",
    "    def __init__(self):\n",
    "        try:\n",
    "            self.a = int(input('Input a: '))\n",
    "            self.b = int(input('Input b: '))\n",
    "            self.c = int(input('Input c: '))\n",
    "        except:\n",
    "            print('Invalid input entered.')\n",
    "\n",
    "                         \n",
    "class TriangleArea(BaseTriangle):\n",
    "    def __init__(self):\n",
    "        super().__init__()\n",
    "    def triangle_area(self):\n",
    "        s = (self.a+self.b+self.c)/2\n",
    "        area = (s*(s-self.a)*(s-self.b)*(s-self.c))**0.5\n",
    "        print('Area of Triangle with sides ({},{},{}) is {}'.format(self.a, self.b, self.c, area))\n",
    "                      \n",
    "t = TriangleArea()\n",
    "t.triangle_area()"
   ]
  },
  {
   "cell_type": "markdown",
   "metadata": {},
   "source": [
    "1.2 Write a function filter_long_words() that takes a list of words and an integer n and returns\n",
    "the list of words that are longer than n."
   ]
  },
  {
   "cell_type": "code",
   "execution_count": 15,
   "metadata": {},
   "outputs": [
    {
     "name": "stdout",
     "output_type": "stream",
     "text": [
      "['aaa', 'aaaa', 'aaaaa']\n"
     ]
    }
   ],
   "source": [
    "def filter_long_words(words, limit):\n",
    "    return [word for word in words if len(word)>limit]\n",
    "\n",
    "print(filter_long_words(['aa', 'aaa', 'aaaa', 'aaaaa'], 2))"
   ]
  },
  {
   "cell_type": "markdown",
   "metadata": {},
   "source": [
    "2.1 Write a Python program using function concept that maps list of words into a list of integers\n",
    "representing the lengths of the corresponding words.\n",
    "\n",
    "Hint: If a list [ ab,cde,erty] is passed on to the python function output should come as [2,3,4]\n",
    "\n",
    "Here 2,3 and 4 are the lengths of the words in the list."
   ]
  },
  {
   "cell_type": "code",
   "execution_count": 17,
   "metadata": {},
   "outputs": [
    {
     "name": "stdout",
     "output_type": "stream",
     "text": [
      "[2, 3, 4]\n"
     ]
    }
   ],
   "source": [
    "def to_len(words):\n",
    "    return [len(word) for word in words]\n",
    "\n",
    "print(to_len( ['ab', 'cde', 'erty']))"
   ]
  },
  {
   "cell_type": "markdown",
   "metadata": {},
   "source": [
    "2.2 Write a Python function which takes a character (i.e. a string of length 1) and returns True if\n",
    "it is a vowel, False otherwise."
   ]
  },
  {
   "cell_type": "code",
   "execution_count": 23,
   "metadata": {},
   "outputs": [
    {
     "name": "stdout",
     "output_type": "stream",
     "text": [
      "True\n"
     ]
    }
   ],
   "source": [
    "def is_vowel(char):\n",
    "    return True if char.lower() in ('a', 'e', 'i', 'o', 'u') else False\n",
    "    \n",
    "\n",
    "print(is_vowel('A'))"
   ]
  },
  {
   "cell_type": "code",
   "execution_count": null,
   "metadata": {},
   "outputs": [],
   "source": []
  }
 ],
 "metadata": {
  "kernelspec": {
   "display_name": "Python 3",
   "language": "python",
   "name": "python3"
  },
  "language_info": {
   "codemirror_mode": {
    "name": "ipython",
    "version": 3
   },
   "file_extension": ".py",
   "mimetype": "text/x-python",
   "name": "python",
   "nbconvert_exporter": "python",
   "pygments_lexer": "ipython3",
   "version": "3.8.3"
  }
 },
 "nbformat": 4,
 "nbformat_minor": 4
}

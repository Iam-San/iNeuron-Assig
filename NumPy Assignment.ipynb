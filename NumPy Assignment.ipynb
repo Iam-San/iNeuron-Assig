{
 "cells": [
  {
   "cell_type": "code",
   "execution_count": 1,
   "metadata": {},
   "outputs": [],
   "source": [
    "import numpy as np"
   ]
  },
  {
   "cell_type": "markdown",
   "metadata": {},
   "source": [
    "Write a function so that the columns of the output matrix are powers of the input vector.\n",
    "The order of the powers is determined by the increasing boolean argument. Specifically, when\n",
    "increasing is False, the i-th output column is the input vector raised element-wise to the power\n",
    "of N - i - 1.\n",
    "\n",
    "HINT: Such a matrix with a geometric progression in each row is named for Alexandre-\n",
    "Theophile Vandermonde."
   ]
  },
  {
   "cell_type": "code",
   "execution_count": 14,
   "metadata": {},
   "outputs": [
    {
     "name": "stdout",
     "output_type": "stream",
     "text": [
      "[[ 1  1  1  1]\n",
      " [ 1  2  4  8]\n",
      " [ 1  3  9 27]\n",
      " [ 1  4 16 64]]\n",
      "[[ 1  1  1  1]\n",
      " [ 8  4  2  1]\n",
      " [27  9  3  1]\n",
      " [64 16  4  1]]\n"
     ]
    }
   ],
   "source": [
    "# This inbuild function for Alexandre- Theophile Vandermonde Matrix\n",
    "print(np.vander([1,2,3,4], increasing=True))\n",
    "print(np.vander([1,2,3,4], increasing=False))"
   ]
  },
  {
   "cell_type": "code",
   "execution_count": 15,
   "metadata": {},
   "outputs": [
    {
     "name": "stdout",
     "output_type": "stream",
     "text": [
      "[[ 1  1  1  1]\n",
      " [ 1  2  4  8]\n",
      " [ 1  3  9 27]\n",
      " [ 1  4 16 64]]\n",
      "[[ 1  1  1  1]\n",
      " [ 8  4  2  1]\n",
      " [27  9  3  1]\n",
      " [64 16  4  1]]\n"
     ]
    }
   ],
   "source": [
    "def vander_matrix(x, increasing=False):\n",
    "    v_array = None\n",
    "    try:\n",
    "        arr = []\n",
    "        if increasing:\n",
    "            power = range(0, len(x))\n",
    "        else:\n",
    "            power = range(len(x) - 1, -1, -1)\n",
    "        for elm in x:\n",
    "            arr.append([elm**p for p in power])\n",
    "        v_array = np.array(arr)\n",
    "\n",
    "    except:\n",
    "        print('Exception occurred.')\n",
    "\n",
    "    return v_array\n",
    "\n",
    "print(vander_matrix([1,2,3,4], increasing=True))\n",
    "print(vander_matrix([1,2,3,4], increasing=False))"
   ]
  },
  {
   "cell_type": "markdown",
   "metadata": {},
   "source": [
    "Write a function to find moving average in an array over a window: \n",
    "    \n",
    "Test it over [3, 5, 7, 2, 8, 10, 11, 65, 72, 81, 99, 100, 150] and window of 3."
   ]
  },
  {
   "cell_type": "code",
   "execution_count": 21,
   "metadata": {},
   "outputs": [
    {
     "name": "stdout",
     "output_type": "stream",
     "text": [
      "5.0\n",
      "4.67\n",
      "5.67\n",
      "6.67\n",
      "9.67\n",
      "28.67\n",
      "49.33\n",
      "72.67\n",
      "84.0\n",
      "93.33\n",
      "116.33\n"
     ]
    }
   ],
   "source": [
    "def moving_avg(n, k):\n",
    "    if len(n) < 3:\n",
    "        print('Nof elements in {} should be greater than 3.'.format(n))\n",
    "    for i in range(len(n)-k+1):\n",
    "        print(round(sum(n[i:i+k])/k, 2))\n",
    "\n",
    "\n",
    "moving_avg([3, 5, 7, 2, 8, 10, 11, 65, 72, 81, 99, 100, 150], 3)"
   ]
  },
  {
   "cell_type": "code",
   "execution_count": null,
   "metadata": {},
   "outputs": [],
   "source": []
  },
  {
   "cell_type": "code",
   "execution_count": null,
   "metadata": {},
   "outputs": [],
   "source": []
  },
  {
   "cell_type": "code",
   "execution_count": null,
   "metadata": {},
   "outputs": [],
   "source": []
  }
 ],
 "metadata": {
  "kernelspec": {
   "display_name": "Python 3",
   "language": "python",
   "name": "python3"
  },
  "language_info": {
   "codemirror_mode": {
    "name": "ipython",
    "version": 3
   },
   "file_extension": ".py",
   "mimetype": "text/x-python",
   "name": "python",
   "nbconvert_exporter": "python",
   "pygments_lexer": "ipython3",
   "version": "3.8.3"
  }
 },
 "nbformat": 4,
 "nbformat_minor": 4
}
